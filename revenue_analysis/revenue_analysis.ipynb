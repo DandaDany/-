{
 "cells": [
  {
   "cell_type": "markdown",
   "id": "abbea606",
   "metadata": {
    "jp-MarkdownHeadingCollapsed": true
   },
   "source": [
    "# 瞭解情況"
   ]
  },
  {
   "cell_type": "code",
   "execution_count": null,
   "id": "fd11f305-ca22-416b-bda5-8f58c59805d6",
   "metadata": {},
   "outputs": [],
   "source": [
    "GL = pd.read_excel('/Users/daniel0522/Downloads/2022 7-11 C2C全.xlsx',sheet_name = '代收款')\n",
    "GL"
   ]
  },
  {
   "cell_type": "code",
   "execution_count": null,
   "id": "c7e17c57-9451-46b7-9344-24cf0cb64642",
   "metadata": {},
   "outputs": [],
   "source": [
    "GL.info()\n",
    "GL.head()\n",
    "GL['訂單成立日'] = pd.to_datetime(GL['訂單成立日'])\n",
    "GL['發貨日期'] = pd.to_datetime(GL['發貨日期'])\n",
    "GL['取貨日期'] = pd.to_datetime(GL['取貨日期'])\n",
    "GL['取貨日期'] = pd.to_datetime(GL['取貨日期'])"
   ]
  },
  {
   "cell_type": "code",
   "execution_count": null,
   "id": "2364295a",
   "metadata": {
    "scrolled": true
   },
   "outputs": [],
   "source": [
    "GL = GL[~GL['訂單號碼'].duplicated(keep = False)]\n",
    "GL['月份'] = GL['訂單成立日'].dt.month\n",
    "GL['年份'] = GL['訂單成立日'].dt.year\n",
    "GL['發貨時長'] = GL['發貨日期']-GL['訂單成立日']\n",
    "GL"
   ]
  },
  {
   "cell_type": "code",
   "execution_count": null,
   "id": "c1a72a19",
   "metadata": {},
   "outputs": [],
   "source": [
    "GL = GL[GL['年份']==2022]"
   ]
  },
  {
   "cell_type": "code",
   "execution_count": null,
   "id": "897a3216",
   "metadata": {
    "scrolled": true
   },
   "outputs": [],
   "source": [
    "GL = GL.merge(webside,how = 'inner', left_on = '訂單號碼',right_on = '訂單號碼')\n",
    "GL"
   ]
  },
  {
   "cell_type": "code",
   "execution_count": null,
   "id": "b7d9160e",
   "metadata": {},
   "outputs": [],
   "source": [
    "groupdata = GL.groupby('月份')"
   ]
  },
  {
   "cell_type": "code",
   "execution_count": null,
   "id": "cb1320b9",
   "metadata": {},
   "outputs": [],
   "source": [
    "for group_name, group_df in groupdata:\n",
    "    print(group_df)"
   ]
  },
  {
   "cell_type": "code",
   "execution_count": null,
   "id": "3f283947",
   "metadata": {},
   "outputs": [],
   "source": [
    "data = {} \n",
    "count = []\n",
    "mean = []\n",
    "median = []\n",
    "highest = []\n",
    "month = []\n",
    "packday = []\n",
    "total = []\n",
    "for group_name, group_df in groupdata:\n",
    "    count.append(int(group_df['代收金額'].describe()[0]))\n",
    "    mean.append(round(group_df['代收金額'].describe()[1],2))\n",
    "    median.append(int(group_df['代收金額'].describe()[5]))\n",
    "    highest.append(int(group_df['代收金額'].describe()[-1]))\n",
    "    month.append(group_name)\n",
    "    packday.append(group_df['發貨時長'].describe()[1])\n",
    "    total.append(int(group_df['代收金額'].sum()))\n",
    "data['訂單數'] = count\n",
    "data['每筆平均金額'] = mean\n",
    "data['每筆中位數金額'] = median\n",
    "data['訂單最高金額'] = highest\n",
    "data['月份'] = month\n",
    "data['當月平均發貨時長'] = packday\n",
    "data['總金額'] = total"
   ]
  },
  {
   "cell_type": "code",
   "execution_count": null,
   "id": "068e1a73",
   "metadata": {},
   "outputs": [],
   "source": [
    "df = pd.DataFrame(data)\n",
    "# 删除原始DataFrame中的\"Age\"列\n",
    "df = df.drop(columns=['月份'])\n",
    "\n",
    "# 将\"Age\"列插入到第一列\n",
    "df.insert(0, '月份', data['月份'])\n",
    "\n",
    "df['當月平均發貨時長'] = df['當月平均發貨時長'].apply(lambda x: x.days)\n",
    "\n",
    "df"
   ]
  },
  {
   "cell_type": "code",
   "execution_count": null,
   "id": "b9ba7b7c",
   "metadata": {
    "scrolled": true
   },
   "outputs": [],
   "source": [
    "merge2['月份'] = merge2['訂單成立日'].dt.month\n",
    "merge2['年份'] = merge2['訂單成立日'].dt.year\n",
    "merge2['發貨時長'] = merge2['發貨日期']-merge2['訂單成立日']\n",
    "merge2.drop(columns = ['訂單成立日','付款總金額'],inplace = True)\n",
    "merge2"
   ]
  },
  {
   "cell_type": "code",
   "execution_count": null,
   "id": "c4e57f4b",
   "metadata": {},
   "outputs": [],
   "source": [
    "merge2022 = merge2[merge2['年份']==2022]\n",
    "groupdata = merge2022.groupby('月份')\n",
    "data = {} \n",
    "count = []\n",
    "mean = []\n",
    "median = []\n",
    "highest = []\n",
    "month = []\n",
    "packday = []\n",
    "total = []\n",
    "for group_name, group_df in groupdata:\n",
    "    count.append(int(group_df['代收金額'].describe()[0]))\n",
    "    mean.append(round(group_df['代收金額'].describe()[1],2))\n",
    "    median.append(int(group_df['代收金額'].describe()[5]))\n",
    "    highest.append(int(group_df['代收金額'].describe()[-1]))\n",
    "    month.append(group_name)\n",
    "    packday.append(group_df['發貨時長'].describe()[1])\n",
    "    total.append(int(group_df['代收金額'].sum()))\n",
    "data['訂單數'] = count\n",
    "data['每筆平均金額'] = mean\n",
    "data['每筆中位數金額'] = median\n",
    "data['訂單最高金額'] = highest\n",
    "data['月份'] = month\n",
    "data['當月平均發貨時長'] = packday\n",
    "data['總金額'] = total\n",
    "\n",
    "df2 = pd.DataFrame(data)\n",
    "# 删除原始DataFrame中的\"Age\"列\n",
    "df2 = df2.drop(columns=['月份'])\n",
    "\n",
    "# 将\"Age\"列插入到第一列\n",
    "df2.insert(0, '月份', data['月份'])\n",
    "\n",
    "df2['當月平均發貨時長'] = df2['當月平均發貨時長'].apply(lambda x: x.days)\n",
    "\n",
    "df2"
   ]
  },
  {
   "cell_type": "markdown",
   "id": "5266dea7",
   "metadata": {
    "jp-MarkdownHeadingCollapsed": true
   },
   "source": [
    "# 爬資訊"
   ]
  },
  {
   "cell_type": "code",
   "execution_count": null,
   "id": "32dc778c",
   "metadata": {},
   "outputs": [],
   "source": [
    "# 載入需要的套件\n",
    "from selenium import webdriver\n",
    "import requests\n",
    "from bs4 import BeautifulSoup\n",
    "import time\n",
    "from requests.models import REDIRECT_STATI\n",
    "import pandas as pd"
   ]
  },
  {
   "cell_type": "code",
   "execution_count": null,
   "id": "037665b4",
   "metadata": {
    "scrolled": true
   },
   "outputs": [],
   "source": [
    "from selenium import webdriver\n",
    "browser = webdriver.Chrome('/Users/daniel0522/Downloads/chromedriver-mac-arm64/chromedriver')\n",
    "browser.get('https://www.instagram.com/GL_tw/')"
   ]
  },
  {
   "cell_type": "code",
   "execution_count": null,
   "id": "a4616e76",
   "metadata": {},
   "outputs": [],
   "source": [
    "soup = BeautifulSoup(browser.page_source, 'html.parser')"
   ]
  },
  {
   "cell_type": "code",
   "execution_count": null,
   "id": "96791970",
   "metadata": {},
   "outputs": [],
   "source": [
    "textlist = []\n",
    "for x in range(1, 40):  # 執行捲軸滾動滾動30次\n",
    "    browser.execute_script(\"window.scrollTo(0,document.body.scrollHeight)\")\n",
    "    time.sleep(10)\n",
    "    \n",
    "    soup2 = BeautifulSoup(browser.page_source, 'html.parser')\n",
    "\n",
    "    for detail in soup2.find_all(class_='_aagv'):\n",
    "        for i in detail.find_all('img'):\n",
    "            textlist.append(i)"
   ]
  },
  {
   "cell_type": "code",
   "execution_count": null,
   "id": "63adb54c",
   "metadata": {
    "scrolled": true
   },
   "outputs": [],
   "source": [
    "textlist"
   ]
  },
  {
   "cell_type": "code",
   "execution_count": null,
   "id": "f4a1979d",
   "metadata": {},
   "outputs": [],
   "source": [
    "import re\n",
    "text = []\n",
    "for i in range(len(textlist)):\n",
    "    search = re.compile(r'[0-9]{2}''/''[0-9]{2}')\n",
    "    c = re.findall(search,str(textlist[i]))\n",
    "    if '滿額' in str(textlist[i]):\n",
    "        a = str(textlist[i]).index('滿額')\n",
    "        text.append(c[0]+str(textlist[i])[a:a+80])\n",
    "    if '即贈' in str(textlist[i]):\n",
    "        b = str(textlist[i]).index('滿額')\n",
    "        text.append(c[0]+str(textlist[i])[b:b+80])"
   ]
  },
  {
   "cell_type": "code",
   "execution_count": null,
   "id": "93c63e28",
   "metadata": {
    "scrolled": true
   },
   "outputs": [],
   "source": [
    "text = []\n",
    "for i in range(len(textlist)):\n",
    "    if '直播' in str(textlist[i]):\n",
    "        a = str(textlist[i]).index('直播')\n",
    "        text.append(str(textlist[i])[a-50:a+50])\n",
    "    if '收單' in str(textlist[i]):\n",
    "        b = str(textlist[i]).index('收單')\n",
    "        text.append(str(textlist[i])[b-50:b+50])\n",
    "    if 'live' in str(textlist[i]):\n",
    "        b = str(textlist[i]).index('live')\n",
    "        text.append(str(textlist[i])[b-50:b+50])\n",
    "    if 'ig' in str(textlist[i]):\n",
    "        b = str(textlist[i]).index('ig')\n",
    "        text.append(str(textlist[i])[b-50:b+50])"
   ]
  },
  {
   "cell_type": "code",
   "execution_count": null,
   "id": "170ee044",
   "metadata": {
    "scrolled": true
   },
   "outputs": [],
   "source": [
    "df = pd.DataFrame({'訊息': text})\n",
    "df[:-1]"
   ]
  },
  {
   "cell_type": "code",
   "execution_count": null,
   "id": "4700dd41",
   "metadata": {
    "scrolled": true
   },
   "outputs": [],
   "source": [
    "df['訊息'].unique()"
   ]
  },
  {
   "cell_type": "markdown",
   "id": "2a6b31b3",
   "metadata": {
    "jp-MarkdownHeadingCollapsed": true
   },
   "source": [
    "# 加入直播資訊整理"
   ]
  },
  {
   "cell_type": "code",
   "execution_count": null,
   "id": "9b8a5962",
   "metadata": {},
   "outputs": [],
   "source": [
    "launch = ['2022-12-10 12:00:00','2022-11-09 12:00:00','2022-10-12 00:00:00','2022-09-11 12:00:00','2022-08-08 00:00:00','2022-07-09 00:00:00','2022-06-10 00:00:00','2022-05-08 18:00:00','2022-04-09 12:00:00','2022-03-04 18:00:00','2022-02-20 18:00:00','2022-01-01 18:00:00']\n",
    "start = ['2022-12-09 19:00:00','2022-11-11 19:00:00','2022-10-12 19:00:00','2022-09-11 19:00:00','2022-08-07 19:00:00','2022-07-09 19:00:00','2022-06-10 19:00:00','2022-05-08 19:00:00','2022-04-09 19:00:00','2022-03-04 19:00:00','2022-02-20 19:00:00','2022-01-01 19:00:00']\n",
    "stop = ['2022-12-14 23:59:00','2022-11-12 23:59:00','2022-10-15 23:59:00','2022-09-15 23:59:00','2022-08-12 23:59:00','2022-07-13 23:59:00','2022-06-14 23:59:00','2022-05-12 23:59:00','2022-04-13 23:59:00','2022-03-08 23:59:00','2022-02-24 23:59:00','2022-01-04 23:59:00']\n",
    "launch2 = ['2022-12-24 12:00:00','2022-11-26 18:00:00','2022-10-22 18:00:00','nan','2022-08-27 00:00:00','2022-07-23 00:00:00','2022-06-24 00:00:00','2022-05-24 12:00:00','2022-04-23 12:00:00','2022-03-20 18:00:00','nan','nan']\n",
    "start2 = ['2022-12-23 17:00:00','2022-11-26 19:30:00','2022-10-22 19:30:00','nan','2022-08-26 19:00:00','2022-07-22 19:00:00','2022-06-24 19:00:00','2022-05-24 19:00:00','2022-04-22 19:00:00','2022-03-20 19:00:00','nan','nan']\n",
    "stop2 = ['2022-12-28 23:59:00','2022-11-30 23:59:00','2022-10-27 23:59:00','nan','2022-08-31 23:59:00','2022-07-27 23:59:00','2022-06-28 23:59:00','2022-05-28 23:59:00','2022-04-27 23:59:00','2022-03-24 23:59:00','nan','nan']\n",
    "l1target = ['2000','2000','2500','2000','2000','nan','2000','2000','2000','2000','2000','2000']\n",
    "l1target2 = ['4500','nan','nan','4000','3500','nan','3800','3500','3500','3500','3500','3500']\n",
    "l1target3 = ['nan','nan','nan','nan','nan','nan','5000','5000','5000','nan','nan','nan']\n",
    "l2target = ['2500','2000','2500','nan','2000','2000','2000','2000','2000','2000','nan','nan']\n",
    "l2target2 = ['4500','4500','nan','nan','3500','3500','3800','3500','3500','3500','nan','nan']\n",
    "l2target3 = ['6000','nan','nan','nan','nan','nan','5000','5000','5000','nan','nan','nan']"
   ]
  },
  {
   "cell_type": "code",
   "execution_count": null,
   "id": "3b90c628",
   "metadata": {},
   "outputs": [],
   "source": [
    "stop = [s.replace(\"23:59:00\", \"23:59:59\") for s in stop]\n",
    "stop2 = [s.replace(\"23:59:00\", \"23:59:59\") for s in stop2]"
   ]
  },
  {
   "cell_type": "code",
   "execution_count": null,
   "id": "3cda5b9f",
   "metadata": {},
   "outputs": [],
   "source": [
    "start = pd.to_datetime(start)\n",
    "launch = pd.to_datetime(launch)\n",
    "stop = pd.to_datetime(stop)\n",
    "start2 = pd.to_datetime(start2)\n",
    "launch2 = pd.to_datetime(launch2)\n",
    "stop2 = pd.to_datetime(stop2)\n",
    "launch[0] > start[0] #時間越晚越大"
   ]
  },
  {
   "cell_type": "code",
   "execution_count": null,
   "id": "b269b4b7",
   "metadata": {
    "scrolled": true
   },
   "outputs": [],
   "source": [
    "GL = GL[~GL.duplicated(subset=['訂單號碼'], keep=False)]\n",
    "GL"
   ]
  },
  {
   "cell_type": "code",
   "execution_count": null,
   "id": "b1c07a2c",
   "metadata": {
    "scrolled": true
   },
   "outputs": [],
   "source": [
    "live = pd.DataFrame({'上架':launch})\n",
    "live['直播'] = start\n",
    "live['收單'] = stop\n",
    "live['上架2'] = launch2\n",
    "live['直播2'] = start2\n",
    "live['收單2'] = stop2\n",
    "live['直播門檻'] = l1target\n",
    "live['直播門檻2'] = l1target2\n",
    "live['直播門檻3'] = l1target3\n",
    "live['直播2門檻'] = l2target\n",
    "live['直播2門檻2'] = l2target2\n",
    "live['直播2門檻3'] = l2target3\n",
    "live.sort_values('上架',inplace = True)\n",
    "live.reset_index(drop=True, inplace=True)\n",
    "live['月份'] = live['上架'].dt.month\n",
    "live"
   ]
  },
  {
   "cell_type": "code",
   "execution_count": null,
   "id": "b98e4b11",
   "metadata": {
    "scrolled": true
   },
   "outputs": [],
   "source": [
    "GL_new = GL.merge(live, how = 'inner', right_on = '月份', left_on = '月份')\n",
    "GL_new"
   ]
  },
  {
   "cell_type": "markdown",
   "id": "05e02d78",
   "metadata": {
    "jp-MarkdownHeadingCollapsed": true
   },
   "source": [
    "# 分類"
   ]
  },
  {
   "cell_type": "code",
   "execution_count": null,
   "id": "e95b8e34",
   "metadata": {},
   "outputs": [],
   "source": [
    "for i in range(len(GL_new)):\n",
    "    if ((GL_new['上架'][i] < GL_new['訂單日期'][i]) & (GL_new['訂單日期'][i] < GL_new['直播'][i])) \\\n",
    "    or ((GL_new['上架2'][i] < GL_new['訂單日期'][i]) & (GL_new['訂單日期'][i] < GL_new['直播2'][i])):\n",
    "        GL_new.loc[i, '訂單分類'] = str(0)  # 直接買\n",
    "    elif ((GL_new['直播'][i] < GL_new['訂單日期'][i]) & (GL_new['訂單日期'][i] < GL_new['直播'][i] + timedelta(hours=3))) \\\n",
    "    or ((GL_new['直播2'][i] < GL_new['訂單日期'][i]) & (GL_new['訂單日期'][i] < GL_new['直播2'][i] + timedelta(hours=3))):\n",
    "        GL_new.loc[i, '訂單分類'] = str(1)  # 直播買\n",
    "    elif ((GL_new['直播'][i] + timedelta(hours=3) < GL_new['訂單日期'][i]) & (GL_new['訂單日期'][i] < GL_new['收單'][i])) \\\n",
    "    or ((GL_new['直播2'][i] + timedelta(hours=3) < GL_new['訂單日期'][i]) & (GL_new['訂單日期'][i] < GL_new['收單2'][i])):\n",
    "        GL_new.loc[i, '訂單分類'] = str(2)  # 活動買（不包含前二種）\n",
    "    else:\n",
    "        GL_new.loc[i, '訂單分類'] = str(3)  # 其他"
   ]
  },
  {
   "cell_type": "code",
   "execution_count": null,
   "id": "9745f160",
   "metadata": {
    "scrolled": true
   },
   "outputs": [],
   "source": [
    "GL_new['直播門檻'].replace('nan', 99999, inplace=True)\n",
    "GL_new['直播門檻2'].replace('nan', 99999, inplace=True)\n",
    "GL_new['直播門檻3'].replace('nan', 99999, inplace=True)\n",
    "GL_new['直播2門檻'].replace('nan', 99999, inplace=True)\n",
    "GL_new['直播2門檻2'].replace('nan', 99999, inplace=True)\n",
    "GL_new['直播2門檻3'].replace('nan', 99999, inplace=True)\n",
    "GL_new"
   ]
  },
  {
   "cell_type": "code",
   "execution_count": null,
   "id": "2c4dcd6e",
   "metadata": {
    "scrolled": true
   },
   "outputs": [],
   "source": [
    "for i in range(len(GL_new)):\n",
    "    if  GL_new['付款總金額'][i] >= 1500:\n",
    "        GL_new.loc[i,'達標訂單'] = '0' #免運費\n",
    "    if (GL_new['訂單分類'][i] != '3') and (\n",
    "        ((GL_new['上架'][i] < GL_new['訂單日期'][i]) & (GL_new['訂單日期'][i] < GL_new['直播'][i])) or\n",
    "        ((GL_new['直播'][i] < GL_new['訂單日期'][i]) & (GL_new['訂單日期'][i] < GL_new['直播'][i] + timedelta(hours=3))) or\n",
    "        ((GL_new['直播'][i] + timedelta(hours=3) < GL_new['訂單日期'][i]) & (GL_new['訂單日期'][i] < GL_new['收單'][i]))\n",
    "        ) and (GL_new['付款總金額'][i] >= int(GL_new['直播門檻'][i])):\n",
    "        GL_new.loc[i,'達標訂單'] = '1' #直播門檻1\n",
    "    if (GL_new['訂單分類'][i] != '3') and (\n",
    "        ((GL_new['上架'][i] < GL_new['訂單日期'][i]) & (GL_new['訂單日期'][i] < GL_new['直播'][i])) or\n",
    "        ((GL_new['直播'][i] < GL_new['訂單日期'][i]) & (GL_new['訂單日期'][i] < GL_new['直播'][i] + timedelta(hours=3))) or\n",
    "        ((GL_new['直播'][i] + timedelta(hours=3) < GL_new['訂單日期'][i]) & (GL_new['訂單日期'][i] < GL_new['收單'][i]))\n",
    "        ) and (GL_new['付款總金額'][i] >= int(GL_new['直播門檻2'][i])):\n",
    "        GL_new.loc[i,'達標訂單'] = '2' #直播門檻2\n",
    "    if (GL_new['訂單分類'][i] != '3') and (\n",
    "        ((GL_new['上架'][i] < GL_new['訂單日期'][i]) & (GL_new['訂單日期'][i] < GL_new['直播'][i])) or\n",
    "        ((GL_new['直播'][i] < GL_new['訂單日期'][i]) & (GL_new['訂單日期'][i] < GL_new['直播'][i] + timedelta(hours=3))) or\n",
    "        ((GL_new['直播'][i] + timedelta(hours=3) < GL_new['訂單日期'][i]) & (GL_new['訂單日期'][i] < GL_new['收單'][i]))\n",
    "        ) and (GL_new['付款總金額'][i] >= int(GL_new['直播門檻3'][i])):\n",
    "        GL_new.loc[i,'達標訂單'] = '3' #直播門檻3\n",
    "    if (GL_new['訂單分類'][i] != '3') and (\n",
    "        ((GL_new['上架2'][i] < GL_new['訂單日期'][i]) & (GL_new['訂單日期'][i] < GL_new['直播2'][i])) or\n",
    "        ((GL_new['直播2'][i] < GL_new['訂單日期'][i]) & (GL_new['訂單日期'][i] < GL_new['直播2'][i] + timedelta(hours=3))) or\n",
    "        ((GL_new['直播2'][i] + timedelta(hours=3) < GL_new['訂單日期'][i]) & (GL_new['訂單日期'][i] < GL_new['收單2'][i]))\n",
    "        ) and (GL_new['付款總金額'][i] >= int(GL_new['直播2門檻'][i])):\n",
    "        GL_new.loc[i,'達標訂單'] = '1' #直播門檻1\n",
    "    if (GL_new['訂單分類'][i] != '3') and (\n",
    "        ((GL_new['上架2'][i] < GL_new['訂單日期'][i]) & (GL_new['訂單日期'][i] < GL_new['直播2'][i])) or\n",
    "        ((GL_new['直播2'][i] < GL_new['訂單日期'][i]) & (GL_new['訂單日期'][i] < GL_new['直播2'][i] + timedelta(hours=3))) or\n",
    "        ((GL_new['直播2'][i] + timedelta(hours=3) < GL_new['訂單日期'][i]) & (GL_new['訂單日期'][i] < GL_new['收單2'][i]))\n",
    "        ) and (GL_new['付款總金額'][i] >= int(GL_new['直播2門檻2'][i])):\n",
    "        GL_new.loc[i,'達標訂單'] = '2' #直播門檻2\n",
    "    if (GL_new['訂單分類'][i] != '3') and (\n",
    "        ((GL_new['上架2'][i] < GL_new['訂單日期'][i]) & (GL_new['訂單日期'][i] < GL_new['直播2'][i])) or\n",
    "        ((GL_new['直播2'][i] < GL_new['訂單日期'][i]) & (GL_new['訂單日期'][i] < GL_new['直播2'][i] + timedelta(hours=3))) or\n",
    "        ((GL_new['直播2'][i] + timedelta(hours=3) < GL_new['訂單日期'][i]) & (GL_new['訂單日期'][i] < GL_new['收單2'][i]))\n",
    "        ) and (GL_new['付款總金額'][i] >= int(GL_new['直播2門檻3'][i])):\n",
    "        GL_new.loc[i,'達標訂單'] = '3' #直播門檻3\n",
    "    if GL_new['付款總金額'][i] < 1500:\n",
    "        GL_new.loc[i,'達標訂單'] = '4' #未達標"
   ]
  },
  {
   "cell_type": "code",
   "execution_count": null,
   "id": "bd1b8217",
   "metadata": {
    "scrolled": true
   },
   "outputs": [],
   "source": [
    "a = GL_new[GL_new['訂單號碼'] == '20220221152411880']\n",
    "a"
   ]
  },
  {
   "cell_type": "code",
   "execution_count": null,
   "id": "34033502",
   "metadata": {},
   "outputs": [],
   "source": [
    "GL_new['達標訂單'].unique()"
   ]
  },
  {
   "cell_type": "code",
   "execution_count": null,
   "id": "aca09803",
   "metadata": {},
   "outputs": [],
   "source": [
    "groupdata = GL_new.groupby('月份')"
   ]
  },
  {
   "cell_type": "code",
   "execution_count": null,
   "id": "5dcaade2",
   "metadata": {},
   "outputs": [],
   "source": [
    "from datetime import datetime, time, timedelta\n",
    "data = {} \n",
    "count = []\n",
    "mean = []\n",
    "median = []\n",
    "highest = []\n",
    "month = []\n",
    "packday = []\n",
    "total = []\n",
    "livecount = []\n",
    "livemean = []\n",
    "livemedian = []\n",
    "livetotal = []\n",
    "eventcount = []\n",
    "eventmean = []\n",
    "eventmedian = []\n",
    "eventtotal = []\n",
    "oldcount = []\n",
    "oldmean = []\n",
    "oldmedian = []\n",
    "oldtotal = []\n",
    "othercount = []\n",
    "othermean = []\n",
    "othermedian = []\n",
    "othertotal = []\n",
    "lastportion = []\n",
    "\n",
    "for group_name, group_df in groupdata:\n",
    "    #上架就買\n",
    "    a = group_df[(group_df['上架'] < group_df['直播'])&(group_df['上架'] < group_df['訂單日期']) & ( group_df['訂單日期'] < group_df['直播'])|\n",
    "                (group_df['上架2'] < group_df['直播2'])&(group_df['上架2'] < group_df['訂單日期']) & ( group_df['訂單日期'] < group_df['直播2'])]\n",
    "    if a.empty:\n",
    "        oldcount.append(0)\n",
    "        oldmean.append(0)\n",
    "        oldmedian.append(0)\n",
    "        oldtotal.append(0)\n",
    "    else:\n",
    "        oldcount.append(int(a['代收金額'].describe()[0]))\n",
    "        oldmean.append(round(a['代收金額'].describe()[1],2))\n",
    "        oldmedian.append(int(a['代收金額'].describe()[5]))\n",
    "        oldtotal.append(int(a['代收金額'].sum()))\n",
    "        \n",
    "    b = group_df[\n",
    "    ((group_df['上架'] < group_df['直播']) & (group_df['直播']+timedelta(hours = 3) < group_df['訂單日期']) & (group_df['訂單日期'] < group_df['收單'])) |\n",
    "    ((group_df['直播'] < group_df['上架']) & (group_df['上架'] < group_df['訂單日期']) & (group_df['訂單日期'] < group_df['收單'])) |\n",
    "    ((group_df['上架2'] < group_df['直播2']) & (group_df['直播2']+timedelta(hours = 3) < group_df['訂單日期']) & (group_df['訂單日期'] < group_df['收單2'])) |\n",
    "    ((group_df['直播2'] < group_df['上架2']) & (group_df['上架2'] < group_df['訂單日期']) & (group_df['訂單日期'] < group_df['收單2']))   \n",
    "    ]\n",
    "    eventcount.append(int(b['代收金額'].describe()[0]))\n",
    "    eventmean.append(round(b['代收金額'].describe()[1],2))\n",
    "    eventmedian.append(int(b['代收金額'].describe()[5]))\n",
    "    eventtotal.append(int(b['代收金額'].sum()))\n",
    "    \n",
    "    b1 = group_df[\n",
    "    ((group_df['上架'] < group_df['直播']) & (group_df['直播'] < group_df['訂單日期']) & (group_df['訂單日期'] < group_df['直播']+timedelta(hours = 3))) |\n",
    "    ((group_df['上架2'] < group_df['直播2']) & (group_df['直播2'] < group_df['訂單日期']) & (group_df['訂單日期'] < group_df['直播2']+timedelta(hours = 3)))\n",
    "    ]\n",
    "    if b1.empty:\n",
    "        livecount.append(0)\n",
    "        livemean.append(0)\n",
    "        livemedian.append(0)\n",
    "        livetotal.append(0)\n",
    "    else:\n",
    "        livecount.append(int(b1['代收金額'].describe()[0]))\n",
    "        livemean.append(round(b1['代收金額'].describe()[1],2))\n",
    "        livemedian.append(int(b1['代收金額'].describe()[5]))\n",
    "        livetotal.append(int(b1['代收金額'].sum()))\n",
    "    \n",
    "    c = group_df.loc[~group_df.index.isin(a.index) & ~group_df.index.isin(b.index)& ~group_df.index.isin(b1.index)]\n",
    "    \n",
    "    othercount.append(int(c['代收金額'].describe()[0]))\n",
    "    othermean.append(round(c['代收金額'].describe()[1],2))\n",
    "    othermedian.append(int(c['代收金額'].describe()[5]))\n",
    "    othertotal.append(int(c['代收金額'].sum()))\n",
    "                 \n",
    "    count.append(int(group_df['代收金額'].describe()[0]))\n",
    "    mean.append(round(group_df['代收金額'].describe()[1],2))\n",
    "    median.append(int(group_df['代收金額'].describe()[5]))\n",
    "    highest.append(int(group_df['代收金額'].describe()[-1]))\n",
    "    month.append(group_name)\n",
    "    packday.append(group_df['發貨時長'].describe()[1])\n",
    "    total.append(int(group_df['代收金額'].sum()))\n",
    "    \n",
    "    ele = pd.Timestamp('23:00:00').time()\n",
    "    tw = pd.Timestamp('00:00:00').time()\n",
    "    one = pd.Timestamp('01:00:00').time()\n",
    "    group_df['訂單日期'] = group_df['訂單日期'].apply(lambda x: x.replace(year=pd.Timestamp.now().year, month=pd.Timestamp.now().month, day=pd.Timestamp.now().day))\n",
    "\n",
    "    d = group_df[\n",
    "    ((group_df['訂單日期'].dt.time >= ele))|((one >= group_df['訂單日期'].dt.time) & (group_df['訂單日期'].dt.time >= tw))]\n",
    "    lastportion.append(len(d)/len(group_df))\n",
    "    \n",
    "data['月份'] = month\n",
    "\n",
    "data['訂單數'] = count\n",
    "data['直播訂單數'] = livecount\n",
    "data['活動訂單數'] = eventcount\n",
    "data['新品上架直接買訂單數'] = oldcount\n",
    "data['訂單數(其他)'] = othercount\n",
    "\n",
    "data['每筆平均金額'] = mean\n",
    "data['直播每筆平均金額'] = livemean\n",
    "data['活動每筆平均金額'] = eventmean\n",
    "data['新品上架直接買每筆平均金額'] = oldmean\n",
    "data['每筆平均金額(其他)'] = othermean\n",
    "\n",
    "data['每筆中位數金額'] = median\n",
    "data['直播每筆中位數金額'] = livemedian\n",
    "data['活動每筆中位數金額'] = eventmedian\n",
    "data['新品上架直接買每筆中位數金額'] = oldmedian\n",
    "data['每筆中位數金額(其他)'] = othermedian\n",
    "\n",
    "data['總金額'] = total\n",
    "data['直播總金額'] = livetotal\n",
    "data['活動總金額'] = eventtotal\n",
    "data['新品上架直接買總金額'] = oldtotal\n",
    "data['直接總金額(其他)'] = othertotal\n",
    "\n",
    "data['訂單最高金額'] = highest\n",
    "data['當月平均發貨時長'] = packday\n",
    "data['當月腦波弱下單比例'] = lastportion"
   ]
  },
  {
   "cell_type": "code",
   "execution_count": null,
   "id": "f3d66b91",
   "metadata": {},
   "outputs": [],
   "source": [
    "df = pd.DataFrame(data)\n",
    "# 删除原始DataFrame中的\"Age\"列\n",
    "df = df.drop(columns=['月份'])\n",
    "\n",
    "# 将\"Age\"列插入到第一列\n",
    "df.insert(0, '月份', data['月份'])\n",
    "\n",
    "df['當月平均發貨時長'] = df['當月平均發貨時長'].apply(lambda x: x.days)\n",
    "\n",
    "df"
   ]
  },
  {
   "cell_type": "code",
   "execution_count": null,
   "id": "db184489",
   "metadata": {},
   "outputs": [],
   "source": [
    "df['當月腦波弱下單比例'].describe()"
   ]
  },
  {
   "cell_type": "code",
   "execution_count": null,
   "id": "48b2b0f4",
   "metadata": {},
   "outputs": [],
   "source": [
    "GL_new.to_excel('GL_new10.xlsx', index=False)"
   ]
  }
 ],
 "metadata": {
  "kernelspec": {
   "display_name": "Python 3 (ipykernel)",
   "language": "python",
   "name": "python3"
  },
  "language_info": {
   "codemirror_mode": {
    "name": "ipython",
    "version": 3
   },
   "file_extension": ".py",
   "mimetype": "text/x-python",
   "name": "python",
   "nbconvert_exporter": "python",
   "pygments_lexer": "ipython3",
   "version": "3.9.4"
  }
 },
 "nbformat": 4,
 "nbformat_minor": 5
}
