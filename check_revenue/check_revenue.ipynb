{
 "cells": [
  {
   "cell_type": "markdown",
   "id": "bac5a56c-2e7a-4f1c-af18-d55d6e514606",
   "metadata": {},
   "source": [
    "# 第三方訂單記錄"
   ]
  },
  {
   "cell_type": "code",
   "execution_count": null,
   "id": "93914257",
   "metadata": {
    "scrolled": true
   },
   "outputs": [],
   "source": [
    "import pandas as pd\n",
    "webside = pd.read_excel('/Users/daniel0522/Downloads/2022訂單報表.xlsx')\n",
    "webside"
   ]
  },
  {
   "cell_type": "code",
   "execution_count": null,
   "id": "5d172ed7",
   "metadata": {},
   "outputs": [],
   "source": [
    "webside['訂單日期'] = pd.to_datetime(webside['訂單日期'])\n",
    "webside['付款日期'] =  pd.to_datetime(webside['付款日期'])\n",
    "webside.info()\n",
    "webside.head()"
   ]
  },
  {
   "cell_type": "code",
   "execution_count": null,
   "id": "f08f537e-b250-4c05-845f-88d0c8691c65",
   "metadata": {
    "scrolled": true
   },
   "outputs": [],
   "source": [
    "# 使用 loc 進行欄位修改\n",
    "webside.loc[:, '訂單日期(日)'] = webside['訂單日期'].dt.date\n",
    "webside.loc[:, '訂單日期(時間)'] = webside['訂單日期'].dt.time\n",
    "# 嘗試確保日期正確解析\n",
    "webside['付款日期'] = pd.to_datetime(webside['付款日期'], errors='coerce')\n",
    "webside.loc[:, '訂單號碼'] = webside['訂單號碼'].str[1:]\n",
    "\n",
    "webside.head()"
   ]
  },
  {
   "cell_type": "code",
   "execution_count": null,
   "id": "d3756830-d793-4eb4-88d2-f8379115f113",
   "metadata": {
    "scrolled": true
   },
   "outputs": [],
   "source": [
    "count_webside = len(webside['訂單號碼'].unique())\n",
    "count_webside == len(webside['訂單號碼']),count_webside"
   ]
  },
  {
   "cell_type": "code",
   "execution_count": null,
   "id": "eb2b5993-9e0e-426e-a3eb-a9e75a67094a",
   "metadata": {},
   "outputs": [],
   "source": [
    "print('webside總共有',len(webside),'筆')\n",
    "print('webside在2022有',len(webside[webside['付款日期'].dt.year == 2022]),'筆')\n",
    "print('webside在2023有',len(webside[webside['付款日期'].dt.year == 2023]),'筆')"
   ]
  },
  {
   "cell_type": "markdown",
   "id": "683d53d8-90d8-4e16-88bc-10d8442d05d6",
   "metadata": {},
   "source": [
    "# 官網訂單紀錄"
   ]
  },
  {
   "cell_type": "code",
   "execution_count": null,
   "id": "063b7d06",
   "metadata": {
    "scrolled": true
   },
   "outputs": [],
   "source": [
    "GL = pd.read_excel('/Users/daniel0522/Downloads/2022 7-11 C2C全.xlsx',sheet_name = '代收款')\n",
    "GL"
   ]
  },
  {
   "cell_type": "code",
   "execution_count": null,
   "id": "2f162b43",
   "metadata": {},
   "outputs": [],
   "source": [
    "GL.info()\n",
    "GL.head()\n",
    "GL['訂單成立日'] = pd.to_datetime(GL['訂單成立日'])\n",
    "GL['發貨日期'] = pd.to_datetime(GL['發貨日期'])\n",
    "GL['取貨日期'] = pd.to_datetime(GL['取貨日期'])\n",
    "GL['取貨日期'] = pd.to_datetime(GL['取貨日期'])"
   ]
  },
  {
   "cell_type": "code",
   "execution_count": null,
   "id": "70c84ed6-eea4-485d-a46e-be43de24a79f",
   "metadata": {},
   "outputs": [],
   "source": [
    "count_GL = len(GL['訂單號碼'].unique())\n",
    "count_GL == len(GL['訂單號碼']),count_GL"
   ]
  },
  {
   "cell_type": "code",
   "execution_count": null,
   "id": "b9f33d2d-ec34-48b5-88a8-7d1328432eae",
   "metadata": {
    "scrolled": true
   },
   "outputs": [],
   "source": [
    "duplicates = GL[GL['訂單號碼'].duplicated(keep = False)] # keep=False 會顯示所有重複記錄\n",
    "duplicates"
   ]
  },
  {
   "cell_type": "code",
   "execution_count": null,
   "id": "399a4cef-a78d-4b11-8bad-9f7671d5ee95",
   "metadata": {},
   "outputs": [],
   "source": [
    "dupicate_test = GL[GL['訂單號碼'] == '20220509055028200']\n",
    "dupicate_test"
   ]
  },
  {
   "cell_type": "code",
   "execution_count": null,
   "id": "f83de134",
   "metadata": {
    "scrolled": true
   },
   "outputs": [],
   "source": [
    "duplicates = GL[GL['訂單號碼'].duplicated(keep = 'first')] # keep=False 會顯示第一筆重複記錄\n",
    "duplicates"
   ]
  },
  {
   "cell_type": "code",
   "execution_count": null,
   "id": "ce95241d-e7de-49f6-97c5-50a1f7212658",
   "metadata": {},
   "outputs": [],
   "source": [
    "GL_drop_duplicate = GL.drop_duplicates(subset=['訂單號碼'])"
   ]
  },
  {
   "cell_type": "code",
   "execution_count": null,
   "id": "59018b65-8d4a-4540-b005-e5bc8beb5281",
   "metadata": {},
   "outputs": [],
   "source": [
    "GL_drop_duplicate"
   ]
  },
  {
   "cell_type": "code",
   "execution_count": null,
   "id": "2fd1c674-d0ed-4e12-85e3-b379769955eb",
   "metadata": {},
   "outputs": [],
   "source": [
    "print('GL共有',len(GL),'筆')\n",
    "print('GL不重複有',len(GL['訂單號碼'].unique()),'筆')\n",
    "print('GL重複有',len(duplicates),'筆')"
   ]
  },
  {
   "cell_type": "markdown",
   "id": "8a22246a-0eac-4e4f-9360-cb07e6cda15f",
   "metadata": {},
   "source": [
    "# 看未收訂單"
   ]
  },
  {
   "cell_type": "code",
   "execution_count": null,
   "id": "2970d10c",
   "metadata": {
    "scrolled": true
   },
   "outputs": [],
   "source": [
    "merge = webside.merge(GL_drop_duplicate, how = 'left', left_on = '訂單號碼',right_on = '訂單號碼')\n",
    "merge.info()\n",
    "merge.head()"
   ]
  },
  {
   "cell_type": "code",
   "execution_count": null,
   "id": "f2649b98",
   "metadata": {
    "scrolled": true
   },
   "outputs": [],
   "source": [
    "#在網站但不在收到的\n",
    "gone = merge[merge['代收金額'].isna()]\n",
    "gone.info()\n",
    "gone.head()"
   ]
  },
  {
   "cell_type": "code",
   "execution_count": null,
   "id": "9fbe6807",
   "metadata": {},
   "outputs": [],
   "source": [
    "gone['付款日期'] = pd.to_datetime(gone['付款日期'])"
   ]
  },
  {
   "cell_type": "code",
   "execution_count": null,
   "id": "33a2f40c",
   "metadata": {},
   "outputs": [],
   "source": [
    "gone_paid_by_2023 = gone[gone['付款日期'].dt.year == 2023]\n",
    "gone_paid_by_2022 = gone[gone['付款日期'].dt.year == 2022]\n",
    "\n",
    "gone_paid_by_2022.info()\n",
    "gone_paid_by_2022.head()"
   ]
  },
  {
   "cell_type": "code",
   "execution_count": null,
   "id": "5d5ade14-a4d5-4696-a76c-3ead775d5695",
   "metadata": {},
   "outputs": [],
   "source": [
    "print('在2022有',len(gone_paid_by_2022),'筆遺失訂單')\n",
    "print('在2023有',len(gone_paid_by_2023),'筆遺失訂單')"
   ]
  },
  {
   "cell_type": "markdown",
   "id": "5db63267-3529-438c-8df9-75b87789b24e",
   "metadata": {},
   "source": [
    "## 換方法看"
   ]
  },
  {
   "cell_type": "code",
   "execution_count": null,
   "id": "131cdf1b",
   "metadata": {
    "scrolled": true
   },
   "outputs": [],
   "source": [
    "#已付款\n",
    "merge2 = webside.merge(GL, how = 'inner', left_on = '訂單號碼',right_on = '訂單號碼')\n",
    "merge2.info()\n",
    "merge2.head()"
   ]
  },
  {
   "cell_type": "code",
   "execution_count": null,
   "id": "f8ca89bd-a95b-481c-9130-091379ec6e62",
   "metadata": {},
   "outputs": [],
   "source": [
    "len(merge2),len(webside),len(GL)"
   ]
  },
  {
   "cell_type": "code",
   "execution_count": null,
   "id": "e704c008-15fb-467b-896c-07d0200ad285",
   "metadata": {},
   "outputs": [],
   "source": [
    "#取除重複值\n",
    "merge2_drop_duplicate = merge2.drop_duplicates(subset=['訂單號碼'])\n",
    "len(merge2_drop_duplicate)"
   ]
  },
  {
   "cell_type": "code",
   "execution_count": null,
   "id": "3b741da9-413e-47fe-83d3-f40860decfee",
   "metadata": {
    "scrolled": true
   },
   "outputs": [],
   "source": [
    "merge2_2022 = merge2_drop_duplicate[merge2_drop_duplicate['付款日期'].dt.year == 2022]\n",
    "merge2_2022.info()"
   ]
  },
  {
   "cell_type": "code",
   "execution_count": null,
   "id": "3be86051-da51-4826-bd12-1551ba756431",
   "metadata": {},
   "outputs": [],
   "source": [
    "print('全部已付款有',len(merge2),'筆')\n",
    "print('全部已付款去除重複有',len(merge2_drop_duplicate),'筆')\n",
    "print('2022已付款有',len(merge2_drop_duplicate[merge2_drop_duplicate['付款日期'].dt.year == 2022]),'筆')\n",
    "print('2023已付款有',len(merge2_drop_duplicate[merge2_drop_duplicate['付款日期'].dt.year == 2023]),'筆')\n"
   ]
  },
  {
   "cell_type": "markdown",
   "id": "6e91e71b-7b6f-426d-850f-8cfc512c0ef7",
   "metadata": {
    "jp-MarkdownHeadingCollapsed": true
   },
   "source": [
    "# 檢查金額不一致"
   ]
  },
  {
   "cell_type": "code",
   "execution_count": null,
   "id": "f06f0ccd",
   "metadata": {},
   "outputs": [],
   "source": [
    "a = []\n",
    "for i in range(len(merge2)):\n",
    "    if merge2['訂單合計'][i] != merge2['代收金額'][i]:\n",
    "        a.append(merge2['訂單號碼'][i])\n",
    "        \n",
    "check = merge2[merge2['訂單號碼'] == a[0]]\n",
    "check"
   ]
  }
 ],
 "metadata": {
  "kernelspec": {
   "display_name": "Python 3 (ipykernel)",
   "language": "python",
   "name": "python3"
  },
  "language_info": {
   "codemirror_mode": {
    "name": "ipython",
    "version": 3
   },
   "file_extension": ".py",
   "mimetype": "text/x-python",
   "name": "python",
   "nbconvert_exporter": "python",
   "pygments_lexer": "ipython3",
   "version": "3.9.4"
  }
 },
 "nbformat": 4,
 "nbformat_minor": 5
}
