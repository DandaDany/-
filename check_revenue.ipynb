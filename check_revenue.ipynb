{
 "cells": [
  {
   "cell_type": "markdown",
   "id": "bac5a56c-2e7a-4f1c-af18-d55d6e514606",
   "metadata": {},
   "source": [
    "# 第三方訂單記錄"
   ]
  },
  {
   "cell_type": "code",
   "execution_count": null,
   "id": "93914257",
   "metadata": {
    "scrolled": true
   },
   "outputs": [],
   "source": [
    "import pandas as pd\n",
    "webside = pd.read_excel('/Users/daniel0522/Downloads/2022訂單報表.xlsx')\n",
    "webside"
   ]
  },
  {
   "cell_type": "code",
   "execution_count": null,
   "id": "5d172ed7",
   "metadata": {},
   "outputs": [],
   "source": [
    "webside['訂單日期'] = pd.to_datetime(webside['訂單日期'])\n",
    "webside['付款日期'] =  pd.to_datetime(webside['付款日期'])\n",
    "webside.info()\n",
    "webside.head()"
   ]
  },
  {
   "cell_type": "code",
   "execution_count": null,
   "id": "f08f537e-b250-4c05-845f-88d0c8691c65",
   "metadata": {},
   "outputs": [],
   "source": [
    "# 使用 loc 進行欄位修改\n",
    "webside.loc[:, '訂單日期(日)'] = webside['訂單日期'].dt.date\n",
    "webside.loc[:, '訂單日期(時間)'] = webside['訂單日期'].dt.time\n",
    "webside.loc[:, '付款日期'] = webside['付款日期'].dt.date\n",
    "webside.loc[:, '訂單號碼'] = webside['訂單號碼'].str[1:]\n",
    "\n",
    "webside"
   ]
  },
  {
   "cell_type": "markdown",
   "id": "683d53d8-90d8-4e16-88bc-10d8442d05d6",
   "metadata": {
    "jp-MarkdownHeadingCollapsed": true
   },
   "source": [
    "# 官網訂單紀錄"
   ]
  },
  {
   "cell_type": "code",
   "execution_count": null,
   "id": "063b7d06",
   "metadata": {
    "scrolled": true
   },
   "outputs": [],
   "source": [
    "glimmer = pd.read_excel('/Users/daniel0522/Downloads/2022 7-11 C2C全.xlsx',sheet_name = '代收款')\n",
    "glimmer"
   ]
  },
  {
   "cell_type": "code",
   "execution_count": null,
   "id": "2f162b43",
   "metadata": {},
   "outputs": [],
   "source": [
    "glimmer.info()\n",
    "glimmer.head()\n",
    "glimmer['訂單成立日'] = pd.to_datetime(glimmer['訂單成立日'])\n",
    "glimmer['發貨日期'] = pd.to_datetime(glimmer['發貨日期'])\n",
    "glimmer['取貨日期'] = pd.to_datetime(glimmer['取貨日期'])\n",
    "glimmer['取貨日期'] = pd.to_datetime(glimmer['取貨日期'])"
   ]
  },
  {
   "cell_type": "code",
   "execution_count": null,
   "id": "70c84ed6-eea4-485d-a46e-be43de24a79f",
   "metadata": {},
   "outputs": [],
   "source": [
    "count_glimmer = len(glimmer['訂單號碼'].unique())\n",
    "count_glimmer"
   ]
  },
  {
   "cell_type": "code",
   "execution_count": null,
   "id": "b9f33d2d-ec34-48b5-88a8-7d1328432eae",
   "metadata": {},
   "outputs": [],
   "source": [
    "duplicates = glimmer[glimmer['訂單號碼'].duplicated(keep = False)]\n",
    "duplicates"
   ]
  },
  {
   "cell_type": "code",
   "execution_count": null,
   "id": "f83de134",
   "metadata": {},
   "outputs": [],
   "source": [
    "duplicates = glimmer[glimmer['訂單號碼'].duplicated(keep = 'first')]\n",
    "duplicates"
   ]
  },
  {
   "cell_type": "code",
   "execution_count": null,
   "id": "399a4cef-a78d-4b11-8bad-9f7671d5ee95",
   "metadata": {},
   "outputs": [],
   "source": [
    "dupicate_test = glimmer[glimmer['訂單號碼'] == '20220509055028200']\n",
    "dupicate_test"
   ]
  },
  {
   "cell_type": "code",
   "execution_count": null,
   "id": "ce95241d-e7de-49f6-97c5-50a1f7212658",
   "metadata": {},
   "outputs": [],
   "source": [
    "glimmer_drop_duplicate = glimmer.drop_duplicates()"
   ]
  },
  {
   "cell_type": "code",
   "execution_count": null,
   "id": "59018b65-8d4a-4540-b005-e5bc8beb5281",
   "metadata": {},
   "outputs": [],
   "source": [
    "glimmer_drop_duplicate"
   ]
  },
  {
   "cell_type": "markdown",
   "id": "8a22246a-0eac-4e4f-9360-cb07e6cda15f",
   "metadata": {
    "jp-MarkdownHeadingCollapsed": true
   },
   "source": [
    "# 看未收訂單"
   ]
  },
  {
   "cell_type": "code",
   "execution_count": null,
   "id": "2970d10c",
   "metadata": {
    "scrolled": true
   },
   "outputs": [],
   "source": [
    "merge = webside.merge(glimmer_drop_duplicate, how = 'left', left_on = '訂單號碼',right_on = '訂單號碼')\n",
    "merge.info()\n",
    "merge.head()"
   ]
  },
  {
   "cell_type": "code",
   "execution_count": null,
   "id": "f2649b98",
   "metadata": {},
   "outputs": [],
   "source": [
    "#在網站但不在收到的\n",
    "gone = merge[merge['代收金額'].isna()]\n",
    "gone.info()\n",
    "gone.head()"
   ]
  },
  {
   "cell_type": "code",
   "execution_count": null,
   "id": "9fbe6807",
   "metadata": {},
   "outputs": [],
   "source": [
    "gone['付款日期'] = pd.to_datetime(gone['付款日期'])"
   ]
  },
  {
   "cell_type": "code",
   "execution_count": null,
   "id": "33a2f40c",
   "metadata": {},
   "outputs": [],
   "source": [
    "gone_paid_by_2023 = gone[gone['付款日期'].dt.year == 2023]\n",
    "gone_paid_by_2022 = gone[gone['付款日期'].dt.year == 2022]\n",
    "\n",
    "gone_paid_by_2022.head()"
   ]
  },
  {
   "cell_type": "code",
   "execution_count": null,
   "id": "131cdf1b",
   "metadata": {
    "scrolled": true
   },
   "outputs": [],
   "source": [
    "merge2 = webside.merge(glimmer, how = 'inner', left_on = '訂單號碼',right_on = '訂單號碼')\n",
    "merge2.info()\n",
    "merge2.head()"
   ]
  },
  {
   "cell_type": "code",
   "execution_count": null,
   "id": "f06f0ccd",
   "metadata": {},
   "outputs": [],
   "source": [
    "#檢查金額不一致\n",
    "a = []\n",
    "for i in range(len(merge2)):\n",
    "    if merge2['訂單合計'][i] != merge2['代收金額'][i]:\n",
    "        a.append(merge2['訂單號碼'][i])\n",
    "        \n",
    "check = merge2[merge2['訂單號碼'] == a[0]]\n",
    "check"
   ]
  },
  {
   "cell_type": "code",
   "execution_count": null,
   "id": "63c69dbc",
   "metadata": {},
   "outputs": [],
   "source": [
    "j  = glimmer['訂單號碼'].tolist()\n",
    "list = []\n",
    "for i in webside['訂單號碼']:\n",
    "    if i not in j:\n",
    "        list.append(i)"
   ]
  }
 ],
 "metadata": {
  "kernelspec": {
   "display_name": "Python 3 (ipykernel)",
   "language": "python",
   "name": "python3"
  },
  "language_info": {
   "codemirror_mode": {
    "name": "ipython",
    "version": 3
   },
   "file_extension": ".py",
   "mimetype": "text/x-python",
   "name": "python",
   "nbconvert_exporter": "python",
   "pygments_lexer": "ipython3",
   "version": "3.9.4"
  }
 },
 "nbformat": 4,
 "nbformat_minor": 5
}
